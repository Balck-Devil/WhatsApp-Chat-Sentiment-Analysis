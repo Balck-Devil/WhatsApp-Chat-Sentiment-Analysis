{
 "cells": [
  {
   "cell_type": "code",
   "execution_count": 1,
   "metadata": {},
   "outputs": [],
   "source": [
    "import pandas as pd\r\n",
    "import numpy as np\r\n",
    "import re\r\n",
    "import emoji\r\n",
    "from collections import Counter\r\n",
    "import matplotlib.pyplot as plt\r\n",
    "from wordcloud import STOPWORDS,WordCloud,ImageColorGenerator"
   ]
  },
  {
   "cell_type": "code",
   "execution_count": 2,
   "metadata": {},
   "outputs": [],
   "source": [
    "# Extract Date\r\n",
    "def date_time(s):\r\n",
    "    pattern = \"^([0-9]+)(\\/)([0-9]+)(\\/)([0-9]+), ([0-9]+):([0-9]+)[ ]?(AM|PM|am|pm)? -\"\r\n",
    "    result = re.match(pattern,s)\r\n",
    "    if result:\r\n",
    "        return True\r\n",
    "    else:\r\n",
    "        return False\r\n"
   ]
  },
  {
   "cell_type": "code",
   "execution_count": 3,
   "metadata": {},
   "outputs": [
    {
     "name": "stdout",
     "output_type": "stream",
     "text": [
      "True\n"
     ]
    }
   ],
   "source": [
    "print(date_time(\"29/06/2021, 11:18 am -\"))\r\n"
   ]
  },
  {
   "cell_type": "code",
   "execution_count": 4,
   "metadata": {},
   "outputs": [],
   "source": [
    "# Find contact\r\n",
    "\r\n",
    "def find_contact(s):\r\n",
    "    s = s.split(\":\")\r\n",
    "    if len(s) == 2:\r\n",
    "        return True\r\n",
    "    else:\r\n",
    "        return False"
   ]
  },
  {
   "cell_type": "code",
   "execution_count": 5,
   "metadata": {},
   "outputs": [
    {
     "name": "stdout",
     "output_type": "stream",
     "text": [
      "True\n"
     ]
    }
   ],
   "source": [
    "print(find_contact(\"Rahul Sir: <Media omitted>\"))\r\n"
   ]
  },
  {
   "cell_type": "code",
   "execution_count": 6,
   "metadata": {},
   "outputs": [],
   "source": [
    "# Finding MSG\r\n",
    "\r\n",
    "def find_msg(line):\r\n",
    "    splitline = line.split(\" - \")\r\n",
    "    dateTime = splitline[0]\r\n",
    "    date, time = dateTime.split(\", \")\r\n",
    "    message = \" \".join(splitline[1:])\r\n",
    "\r\n",
    "    if find_contact(message):\r\n",
    "        splitmessage = message.split(\": \")\r\n",
    "        contact = splitmessage[0]\r\n",
    "        message = \" \".join(splitmessage[1:])\r\n",
    "    else:\r\n",
    "        contact = None\r\n",
    "        \r\n",
    "    return date, time, contact, message"
   ]
  },
  {
   "cell_type": "code",
   "execution_count": 7,
   "metadata": {},
   "outputs": [],
   "source": [
    "data = []\r\n",
    "txt_file = r\"D:\\PFP\\Projects\\WhatsApp Sentiment Analysis\\WhatsApp Chat with LEC IT 7th sem.txt\"\r\n",
    "\r\n",
    "with open(txt_file,encoding=\"utf-8\") as fp:\r\n",
    "    fp.readline()\r\n",
    "    messageBuffer = []\r\n",
    "    date, time, contact = None,None,None\r\n",
    "\r\n",
    "    while True:\r\n",
    "        line = fp.readline()\r\n",
    "        if not line:\r\n",
    "            break\r\n",
    "        line = line.strip()\r\n",
    "        if date_time(line):\r\n",
    "            if len(messageBuffer) > 0:\r\n",
    "                data.append([date,time,contact,\" \".join(messageBuffer)])\r\n",
    "            \r\n",
    "            messageBuffer.clear()\r\n",
    "            date,time,contact,message = find_msg(line)\r\n",
    "            messageBuffer.append(message)\r\n",
    "        else:\r\n",
    "            messageBuffer.append(line)\r\n"
   ]
  },
  {
   "cell_type": "code",
   "execution_count": 8,
   "metadata": {},
   "outputs": [
    {
     "data": {
      "text/html": [
       "<div>\n",
       "<style scoped>\n",
       "    .dataframe tbody tr th:only-of-type {\n",
       "        vertical-align: middle;\n",
       "    }\n",
       "\n",
       "    .dataframe tbody tr th {\n",
       "        vertical-align: top;\n",
       "    }\n",
       "\n",
       "    .dataframe thead th {\n",
       "        text-align: right;\n",
       "    }\n",
       "</style>\n",
       "<table border=\"1\" class=\"dataframe\">\n",
       "  <thead>\n",
       "    <tr style=\"text-align: right;\">\n",
       "      <th></th>\n",
       "      <th>Date</th>\n",
       "      <th>Time</th>\n",
       "      <th>Contact Name</th>\n",
       "      <th>Message</th>\n",
       "    </tr>\n",
       "  </thead>\n",
       "  <tbody>\n",
       "    <tr>\n",
       "      <th>0</th>\n",
       "      <td>19/08/2019</td>\n",
       "      <td>4:40 pm</td>\n",
       "      <td>None</td>\n",
       "      <td>Rakesh Sir IT Morbi created group \"LEC IT 3rd ...</td>\n",
       "    </tr>\n",
       "    <tr>\n",
       "      <th>1</th>\n",
       "      <td>19/08/2019</td>\n",
       "      <td>4:40 pm</td>\n",
       "      <td>None</td>\n",
       "      <td>+91 76220 05315 was added</td>\n",
       "    </tr>\n",
       "    <tr>\n",
       "      <th>2</th>\n",
       "      <td>13/11/2019</td>\n",
       "      <td>12:54 pm</td>\n",
       "      <td>Rahul Sir</td>\n",
       "      <td>&lt;Media omitted&gt;</td>\n",
       "    </tr>\n",
       "    <tr>\n",
       "      <th>3</th>\n",
       "      <td>13/11/2019</td>\n",
       "      <td>12:54 pm</td>\n",
       "      <td>Rahul Sir</td>\n",
       "      <td>&lt;Media omitted&gt;</td>\n",
       "    </tr>\n",
       "    <tr>\n",
       "      <th>4</th>\n",
       "      <td>13/11/2019</td>\n",
       "      <td>12:54 pm</td>\n",
       "      <td>Rahul Sir</td>\n",
       "      <td>&lt;Media omitted&gt;</td>\n",
       "    </tr>\n",
       "    <tr>\n",
       "      <th>...</th>\n",
       "      <td>...</td>\n",
       "      <td>...</td>\n",
       "      <td>...</td>\n",
       "      <td>...</td>\n",
       "    </tr>\n",
       "    <tr>\n",
       "      <th>2300</th>\n",
       "      <td>10/07/2021</td>\n",
       "      <td>7:03 pm</td>\n",
       "      <td>None</td>\n",
       "      <td>Rakesh Sir IT Morbi: https://forms.office.com/...</td>\n",
       "    </tr>\n",
       "    <tr>\n",
       "      <th>2301</th>\n",
       "      <td>10/07/2021</td>\n",
       "      <td>7:03 pm</td>\n",
       "      <td>Rakesh Sir IT Morbi</td>\n",
       "      <td>Microsoft Tech Saksham Program for Girls Stude...</td>\n",
       "    </tr>\n",
       "    <tr>\n",
       "      <th>2302</th>\n",
       "      <td>12/07/2021</td>\n",
       "      <td>11:31 am</td>\n",
       "      <td>Hema Ma'am</td>\n",
       "      <td>Join for spm</td>\n",
       "    </tr>\n",
       "    <tr>\n",
       "      <th>2303</th>\n",
       "      <td>12/07/2021</td>\n",
       "      <td>11:31 am</td>\n",
       "      <td>Hema Ma'am</td>\n",
       "      <td>Fast</td>\n",
       "    </tr>\n",
       "    <tr>\n",
       "      <th>2304</th>\n",
       "      <td>12/07/2021</td>\n",
       "      <td>11:33 am</td>\n",
       "      <td>Hema Ma'am</td>\n",
       "      <td>Make it fast guys..ur professor should not wai...</td>\n",
       "    </tr>\n",
       "  </tbody>\n",
       "</table>\n",
       "<p>2305 rows × 4 columns</p>\n",
       "</div>"
      ],
      "text/plain": [
       "            Date      Time         Contact Name  \\\n",
       "0     19/08/2019   4:40 pm                 None   \n",
       "1     19/08/2019   4:40 pm                 None   \n",
       "2     13/11/2019  12:54 pm            Rahul Sir   \n",
       "3     13/11/2019  12:54 pm            Rahul Sir   \n",
       "4     13/11/2019  12:54 pm            Rahul Sir   \n",
       "...          ...       ...                  ...   \n",
       "2300  10/07/2021   7:03 pm                 None   \n",
       "2301  10/07/2021   7:03 pm  Rakesh Sir IT Morbi   \n",
       "2302  12/07/2021  11:31 am           Hema Ma'am   \n",
       "2303  12/07/2021  11:31 am           Hema Ma'am   \n",
       "2304  12/07/2021  11:33 am           Hema Ma'am   \n",
       "\n",
       "                                                Message  \n",
       "0     Rakesh Sir IT Morbi created group \"LEC IT 3rd ...  \n",
       "1                             +91 76220 05315 was added  \n",
       "2                                       <Media omitted>  \n",
       "3                                       <Media omitted>  \n",
       "4                                       <Media omitted>  \n",
       "...                                                 ...  \n",
       "2300  Rakesh Sir IT Morbi: https://forms.office.com/...  \n",
       "2301  Microsoft Tech Saksham Program for Girls Stude...  \n",
       "2302                                       Join for spm  \n",
       "2303                                               Fast  \n",
       "2304  Make it fast guys..ur professor should not wai...  \n",
       "\n",
       "[2305 rows x 4 columns]"
      ]
     },
     "execution_count": 8,
     "metadata": {},
     "output_type": "execute_result"
    }
   ],
   "source": [
    "df = pd.DataFrame(data, columns=[\"Date\", 'Time', 'Contact Name', 'Message'])\r\n",
    "df\r\n"
   ]
  },
  {
   "cell_type": "code",
   "execution_count": 9,
   "metadata": {},
   "outputs": [
    {
     "data": {
      "text/plain": [
       "Date              0\n",
       "Time              0\n",
       "Contact Name    436\n",
       "Message           0\n",
       "dtype: int64"
      ]
     },
     "execution_count": 9,
     "metadata": {},
     "output_type": "execute_result"
    }
   ],
   "source": [
    "df.isnull().sum()"
   ]
  },
  {
   "cell_type": "code",
   "execution_count": 10,
   "metadata": {},
   "outputs": [],
   "source": [
    "df.dropna(inplace=True)"
   ]
  },
  {
   "cell_type": "code",
   "execution_count": 11,
   "metadata": {},
   "outputs": [],
   "source": [
    "from nltk.sentiment.vader import SentimentIntensityAnalyzer\r\n",
    "\r\n",
    "sentiments = SentimentIntensityAnalyzer()\r\n",
    "\r\n",
    "df[\"Positive\"] = [sentiments.polarity_scores(i)[\"pos\"] for i in df[\"Message\"]]\r\n",
    "df[\"Negative\"] = [sentiments.polarity_scores(i)[\"neg\"] for i in df[\"Message\"]]\r\n",
    "df[\"Neutral\"] = [sentiments.polarity_scores(i)[\"neu\"] for i in df[\"Message\"]]\r\n"
   ]
  },
  {
   "cell_type": "code",
   "execution_count": 12,
   "metadata": {},
   "outputs": [
    {
     "data": {
      "text/html": [
       "<div>\n",
       "<style scoped>\n",
       "    .dataframe tbody tr th:only-of-type {\n",
       "        vertical-align: middle;\n",
       "    }\n",
       "\n",
       "    .dataframe tbody tr th {\n",
       "        vertical-align: top;\n",
       "    }\n",
       "\n",
       "    .dataframe thead th {\n",
       "        text-align: right;\n",
       "    }\n",
       "</style>\n",
       "<table border=\"1\" class=\"dataframe\">\n",
       "  <thead>\n",
       "    <tr style=\"text-align: right;\">\n",
       "      <th></th>\n",
       "      <th>Date</th>\n",
       "      <th>Time</th>\n",
       "      <th>Contact Name</th>\n",
       "      <th>Message</th>\n",
       "      <th>Positive</th>\n",
       "      <th>Negative</th>\n",
       "      <th>Neutral</th>\n",
       "    </tr>\n",
       "  </thead>\n",
       "  <tbody>\n",
       "    <tr>\n",
       "      <th>2</th>\n",
       "      <td>13/11/2019</td>\n",
       "      <td>12:54 pm</td>\n",
       "      <td>Rahul Sir</td>\n",
       "      <td>&lt;Media omitted&gt;</td>\n",
       "      <td>0.000</td>\n",
       "      <td>0.0</td>\n",
       "      <td>1.000</td>\n",
       "    </tr>\n",
       "    <tr>\n",
       "      <th>3</th>\n",
       "      <td>13/11/2019</td>\n",
       "      <td>12:54 pm</td>\n",
       "      <td>Rahul Sir</td>\n",
       "      <td>&lt;Media omitted&gt;</td>\n",
       "      <td>0.000</td>\n",
       "      <td>0.0</td>\n",
       "      <td>1.000</td>\n",
       "    </tr>\n",
       "    <tr>\n",
       "      <th>4</th>\n",
       "      <td>13/11/2019</td>\n",
       "      <td>12:54 pm</td>\n",
       "      <td>Rahul Sir</td>\n",
       "      <td>&lt;Media omitted&gt;</td>\n",
       "      <td>0.000</td>\n",
       "      <td>0.0</td>\n",
       "      <td>1.000</td>\n",
       "    </tr>\n",
       "    <tr>\n",
       "      <th>5</th>\n",
       "      <td>13/11/2019</td>\n",
       "      <td>12:55 pm</td>\n",
       "      <td>Rahul Sir</td>\n",
       "      <td>Pending approved applications</td>\n",
       "      <td>0.583</td>\n",
       "      <td>0.0</td>\n",
       "      <td>0.417</td>\n",
       "    </tr>\n",
       "    <tr>\n",
       "      <th>6</th>\n",
       "      <td>13/11/2019</td>\n",
       "      <td>12:55 pm</td>\n",
       "      <td>Rahul Sir</td>\n",
       "      <td>Also Remaining all applications have been appr...</td>\n",
       "      <td>0.318</td>\n",
       "      <td>0.0</td>\n",
       "      <td>0.682</td>\n",
       "    </tr>\n",
       "    <tr>\n",
       "      <th>...</th>\n",
       "      <td>...</td>\n",
       "      <td>...</td>\n",
       "      <td>...</td>\n",
       "      <td>...</td>\n",
       "      <td>...</td>\n",
       "      <td>...</td>\n",
       "      <td>...</td>\n",
       "    </tr>\n",
       "    <tr>\n",
       "      <th>2299</th>\n",
       "      <td>09/07/2021</td>\n",
       "      <td>3:34 pm</td>\n",
       "      <td>Tejas Sir</td>\n",
       "      <td>Join for PR now</td>\n",
       "      <td>0.423</td>\n",
       "      <td>0.0</td>\n",
       "      <td>0.577</td>\n",
       "    </tr>\n",
       "    <tr>\n",
       "      <th>2301</th>\n",
       "      <td>10/07/2021</td>\n",
       "      <td>7:03 pm</td>\n",
       "      <td>Rakesh Sir IT Morbi</td>\n",
       "      <td>Microsoft Tech Saksham Program for Girls Stude...</td>\n",
       "      <td>0.081</td>\n",
       "      <td>0.0</td>\n",
       "      <td>0.919</td>\n",
       "    </tr>\n",
       "    <tr>\n",
       "      <th>2302</th>\n",
       "      <td>12/07/2021</td>\n",
       "      <td>11:31 am</td>\n",
       "      <td>Hema Ma'am</td>\n",
       "      <td>Join for spm</td>\n",
       "      <td>0.524</td>\n",
       "      <td>0.0</td>\n",
       "      <td>0.476</td>\n",
       "    </tr>\n",
       "    <tr>\n",
       "      <th>2303</th>\n",
       "      <td>12/07/2021</td>\n",
       "      <td>11:31 am</td>\n",
       "      <td>Hema Ma'am</td>\n",
       "      <td>Fast</td>\n",
       "      <td>0.000</td>\n",
       "      <td>0.0</td>\n",
       "      <td>1.000</td>\n",
       "    </tr>\n",
       "    <tr>\n",
       "      <th>2304</th>\n",
       "      <td>12/07/2021</td>\n",
       "      <td>11:33 am</td>\n",
       "      <td>Hema Ma'am</td>\n",
       "      <td>Make it fast guys..ur professor should not wai...</td>\n",
       "      <td>0.000</td>\n",
       "      <td>0.0</td>\n",
       "      <td>1.000</td>\n",
       "    </tr>\n",
       "  </tbody>\n",
       "</table>\n",
       "<p>1869 rows × 7 columns</p>\n",
       "</div>"
      ],
      "text/plain": [
       "            Date      Time         Contact Name  \\\n",
       "2     13/11/2019  12:54 pm            Rahul Sir   \n",
       "3     13/11/2019  12:54 pm            Rahul Sir   \n",
       "4     13/11/2019  12:54 pm            Rahul Sir   \n",
       "5     13/11/2019  12:55 pm            Rahul Sir   \n",
       "6     13/11/2019  12:55 pm            Rahul Sir   \n",
       "...          ...       ...                  ...   \n",
       "2299  09/07/2021   3:34 pm            Tejas Sir   \n",
       "2301  10/07/2021   7:03 pm  Rakesh Sir IT Morbi   \n",
       "2302  12/07/2021  11:31 am           Hema Ma'am   \n",
       "2303  12/07/2021  11:31 am           Hema Ma'am   \n",
       "2304  12/07/2021  11:33 am           Hema Ma'am   \n",
       "\n",
       "                                                Message  Positive  Negative  \\\n",
       "2                                       <Media omitted>     0.000       0.0   \n",
       "3                                       <Media omitted>     0.000       0.0   \n",
       "4                                       <Media omitted>     0.000       0.0   \n",
       "5                         Pending approved applications     0.583       0.0   \n",
       "6     Also Remaining all applications have been appr...     0.318       0.0   \n",
       "...                                                 ...       ...       ...   \n",
       "2299                                    Join for PR now     0.423       0.0   \n",
       "2301  Microsoft Tech Saksham Program for Girls Stude...     0.081       0.0   \n",
       "2302                                       Join for spm     0.524       0.0   \n",
       "2303                                               Fast     0.000       0.0   \n",
       "2304  Make it fast guys..ur professor should not wai...     0.000       0.0   \n",
       "\n",
       "      Neutral  \n",
       "2       1.000  \n",
       "3       1.000  \n",
       "4       1.000  \n",
       "5       0.417  \n",
       "6       0.682  \n",
       "...       ...  \n",
       "2299    0.577  \n",
       "2301    0.919  \n",
       "2302    0.476  \n",
       "2303    1.000  \n",
       "2304    1.000  \n",
       "\n",
       "[1869 rows x 7 columns]"
      ]
     },
     "execution_count": 12,
     "metadata": {},
     "output_type": "execute_result"
    }
   ],
   "source": [
    "df"
   ]
  },
  {
   "cell_type": "code",
   "execution_count": 13,
   "metadata": {},
   "outputs": [],
   "source": [
    "x = sum(df[\"Positive\"])\r\n",
    "y = sum(df[\"Negative\"])\r\n",
    "z = sum(df[\"Neutral\"])"
   ]
  },
  {
   "cell_type": "code",
   "execution_count": 14,
   "metadata": {},
   "outputs": [
    {
     "name": "stdout",
     "output_type": "stream",
     "text": [
      "250.12499999999977 59.262 1554.610999999998\n"
     ]
    }
   ],
   "source": [
    "print(x,y,z)"
   ]
  },
  {
   "cell_type": "code",
   "execution_count": 15,
   "metadata": {},
   "outputs": [
    {
     "name": "stdout",
     "output_type": "stream",
     "text": [
      "Neutral 🙂\n"
     ]
    }
   ],
   "source": [
    "def sentiment_score(a,b,c):\r\n",
    "    if (a>b) and (b>c):\r\n",
    "        print(\"Positive 😊\")\r\n",
    "    elif (b>a) and (b>c):\r\n",
    "        print(\"Negative 😠\")\r\n",
    "    else:\r\n",
    "        print(\"Neutral 🙂\")\r\n",
    "\r\n",
    "sentiment_score(x,y,z)\r\n"
   ]
  },
  {
   "cell_type": "code",
   "execution_count": null,
   "metadata": {},
   "outputs": [],
   "source": []
  }
 ],
 "metadata": {
  "interpreter": {
   "hash": "4bf5ffbeb8bb60b501bd370f4f30f4e42d71afa6b8bb033ca8128ca692dcec38"
  },
  "kernelspec": {
   "display_name": "Python 3.8.1 64-bit",
   "name": "python3"
  },
  "language_info": {
   "codemirror_mode": {
    "name": "ipython",
    "version": 3
   },
   "file_extension": ".py",
   "mimetype": "text/x-python",
   "name": "python",
   "nbconvert_exporter": "python",
   "pygments_lexer": "ipython3",
   "version": "3.8.1"
  },
  "orig_nbformat": 4
 },
 "nbformat": 4,
 "nbformat_minor": 2
}